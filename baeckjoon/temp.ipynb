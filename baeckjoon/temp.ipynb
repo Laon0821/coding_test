{
 "cells": [
  {
   "cell_type": "code",
   "execution_count": 3,
   "metadata": {},
   "outputs": [
    {
     "name": "stdout",
     "output_type": "stream",
     "text": [
      "\\    /\\\n",
      " )  ( ')\n",
      "(  /  )\n",
      " \\(__)|\n"
     ]
    }
   ],
   "source": [
    "print(\"\\\\    /\\\\\")\n",
    "print(\" )  ( ')\")\n",
    "print(\"(  /  )\")\n",
    "print(\" \\\\(__)|\")"
   ]
  },
  {
   "cell_type": "code",
   "execution_count": 8,
   "metadata": {},
   "outputs": [
    {
     "name": "stdout",
     "output_type": "stream",
     "text": [
      "|\\_/|\n",
      "|q p|   /}\n",
      "( 0 )\"\"\"\\\n",
      "|\"^\"`    |\n",
      "||_/=\\\\__|\n",
      "\n"
     ]
    }
   ],
   "source": [
    "print('''|\\_/|\n",
    "|q p|   /}\n",
    "( 0 )\"\"\"\\\\\n",
    "|\"^\"`    |\n",
    "||_/=\\\\\\\\__|\n",
    "''')"
   ]
  },
  {
   "cell_type": "code",
   "execution_count": 32,
   "metadata": {},
   "outputs": [
    {
     "name": "stdout",
     "output_type": "stream",
     "text": [
      "k: 4\n",
      "n: 3\n",
      "tmp: [1, 2, 3, 4]\n",
      "li: [1, 2, 3, 4]\n",
      "cartesian product: [(1,), (2,), (3,), (4,)]\n"
     ]
    }
   ],
   "source": [
    "import itertools\n",
    "import numpy as np\n",
    "\n",
    "k, n = map(int, input().split(\" \"))\n",
    "tmp = list(map(int, input().split(\" \")))\n",
    "\n",
    "print(\"k:\", k)\n",
    "print(\"n:\", n)\n",
    "print(\"tmp:\", tmp)\n",
    "\n",
    "li = list()\n",
    "\n",
    "for i in range(k):\n",
    "    li.append(tmp[i])\n",
    "    \n",
    "print(\"li:\", li)\n",
    "\n",
    "result = set(np.multiply(*zip(*itertools.product(A, B))))\n",
    "print(result)  # {3, 4, 6, 8}"
   ]
  },
  {
   "cell_type": "code",
   "execution_count": 34,
   "metadata": {},
   "outputs": [
    {
     "name": "stdout",
     "output_type": "stream",
     "text": [
      "F\n"
     ]
    }
   ],
   "source": [
    "score = int(input())\n",
    "\n",
    "if (score >= 90) & (score <= 100):\n",
    "    print(\"A\")\n",
    "elif (score >= 80):\n",
    "    print(\"B\")\n",
    "elif (score >= 70):\n",
    "    print(\"C\")\n",
    "elif (score >= 60):\n",
    "    print(\"D\")\n",
    "else:\n",
    "    print(\"F\")"
   ]
  },
  {
   "cell_type": "code",
   "execution_count": 40,
   "metadata": {},
   "outputs": [
    {
     "name": "stdout",
     "output_type": "stream",
     "text": [
      "0\n"
     ]
    }
   ],
   "source": [
    "year = int(input())\n",
    "\n",
    "if ((year % 4 == 0) & (year % 100 != 0)) | (year % 400 == 0):\n",
    "    print(1)\n",
    "else:\n",
    "    print(0)"
   ]
  },
  {
   "cell_type": "code",
   "execution_count": 42,
   "metadata": {},
   "outputs": [
    {
     "name": "stdout",
     "output_type": "stream",
     "text": [
      "4\n"
     ]
    }
   ],
   "source": [
    "x = int(input())\n",
    "y = int(input())\n",
    "\n",
    "if (x > 0) & (y > 0):\n",
    "    print(1)\n",
    "elif (x < 0) & (y > 0):\n",
    "    print(2)\n",
    "elif (x < 0) & (y < 0):\n",
    "    print(3)\n",
    "else:\n",
    "    print(4)"
   ]
  },
  {
   "cell_type": "code",
   "execution_count": 45,
   "metadata": {},
   "outputs": [
    {
     "name": "stdout",
     "output_type": "stream",
     "text": [
      "22 55\n"
     ]
    }
   ],
   "source": [
    "h, m = map(int, input().split(\" \"))\n",
    "\n",
    "if m >= 45:\n",
    "    print(h, m-45)\n",
    "else:\n",
    "    if h == 0:\n",
    "        print(h+23, m+15)\n",
    "    else:\n",
    "        print(h-1, m+15)"
   ]
  },
  {
   "cell_type": "code",
   "execution_count": 62,
   "metadata": {},
   "outputs": [
    {
     "name": "stdout",
     "output_type": "stream",
     "text": [
      "25 0\n"
     ]
    }
   ],
   "source": [
    "now_hour, now_min = map(int, input().split(\" \"))\n",
    "cook_min = int(input())\n",
    "\n",
    "cook_hour = cook_min // 60\n",
    "cook_min = cook_min % 60\n",
    "\n",
    "hour = now_hour + cook_hour\n",
    "min = now_min + cook_min\n",
    "\n",
    "if hour < 23:\n",
    "    if min < 60:\n",
    "        print(hour, min)\n",
    "    else:\n",
    "        print(hour + 1, min - 60)\n",
    "else:\n",
    "    if min < 60:\n",
    "        print(hour, min)\n",
    "    else:\n",
    "        print(hour - 23, min - 60)"
   ]
  },
  {
   "cell_type": "code",
   "execution_count": 66,
   "metadata": {},
   "outputs": [
    {
     "name": "stdout",
     "output_type": "stream",
     "text": [
      "0 10\n"
     ]
    }
   ],
   "source": [
    "now_hour, now_min = map(int, input().split(\" \"))\n",
    "cook_min = int(input())\n",
    "\n",
    "cook_hour = cook_min // 60\n",
    "cook_min = cook_min % 60\n",
    "\n",
    "hour = now_hour + cook_hour\n",
    "min = now_min + cook_min\n",
    "\n",
    "print((hour + (min // 60)) % 24, min % 60)"
   ]
  },
  {
   "cell_type": "code",
   "execution_count": 76,
   "metadata": {},
   "outputs": [
    {
     "name": "stdout",
     "output_type": "stream",
     "text": [
      "{1, 2, 3}\n",
      "1\n"
     ]
    }
   ],
   "source": [
    "dices = list(map(int, input().split(\" \")))\n",
    "\n",
    "dices_set = set(dices)\n",
    "print(dices_set)\n",
    "\n",
    "if len(dices) == 1:\n",
    "    print(dices)\n",
    "    # print(10000 + dices[0] * 1000)\n",
    "elif len(dices) == 2:\n",
    "    print(dices)\n",
    "    # print()\n",
    "else:\n",
    "    print(dices.count(3))\n",
    "    # print(dices[2] * 100)"
   ]
  },
  {
   "cell_type": "code",
   "execution_count": 90,
   "metadata": {},
   "outputs": [
    {
     "name": "stdout",
     "output_type": "stream",
     "text": [
      "600\n"
     ]
    }
   ],
   "source": [
    "dices = list(map(int, input().split(\" \")))\n",
    "\n",
    "tmp = {}\n",
    "for x in dices:\n",
    "    tmp[x] = dices.count(x)\n",
    "\n",
    "max_count = max(tmp.values())\n",
    "for k in tmp.keys():\n",
    "    if tmp[k] == max_count:\n",
    "        max_key = k\n",
    "\n",
    "if max_count == 3:\n",
    "    print(10000 + max_key * 1000)\n",
    "elif max_count == 2:\n",
    "    print(1000 + max_key * 100)\n",
    "else:\n",
    "    print(max(tmp.keys()) * 100)"
   ]
  },
  {
   "cell_type": "code",
   "execution_count": 91,
   "metadata": {},
   "outputs": [
    {
     "name": "stdout",
     "output_type": "stream",
     "text": [
      "2 * 1 = 2\n",
      "2 * 2 = 4\n",
      "2 * 3 = 6\n",
      "2 * 4 = 8\n",
      "2 * 5 = 10\n",
      "2 * 6 = 12\n",
      "2 * 7 = 14\n",
      "2 * 8 = 16\n",
      "2 * 9 = 18\n"
     ]
    }
   ],
   "source": [
    "n = int(input())\n",
    "\n",
    "for i in range(1, 10):\n",
    "    print(f\"{n} * {i} = {n*i}\")"
   ]
  },
  {
   "cell_type": "code",
   "execution_count": 92,
   "metadata": {},
   "outputs": [
    {
     "name": "stdout",
     "output_type": "stream",
     "text": [
      "2\n",
      "5\n",
      "7\n",
      "17\n",
      "7\n"
     ]
    }
   ],
   "source": [
    "n = int(input())\n",
    "\n",
    "for i in range(n):\n",
    "    a, b = map(int, input().split(\" \"))\n",
    "    print(a + b)"
   ]
  },
  {
   "cell_type": "code",
   "execution_count": 96,
   "metadata": {},
   "outputs": [
    {
     "name": "stdout",
     "output_type": "stream",
     "text": [
      "55\n"
     ]
    }
   ],
   "source": [
    "n = int(input())\n",
    "\n",
    "result = 0\n",
    "for i in range(1, n+1):\n",
    "    result += i\n",
    "\n",
    "print(result)"
   ]
  },
  {
   "cell_type": "code",
   "execution_count": 97,
   "metadata": {},
   "outputs": [
    {
     "name": "stdout",
     "output_type": "stream",
     "text": [
      "Yes\n"
     ]
    }
   ],
   "source": [
    "X = int(input())\n",
    "N = int(input())\n",
    "\n",
    "result = 0\n",
    "for i in range(N):\n",
    "    price, number = map(int, input().split(\" \"))\n",
    "    result += price * number\n",
    "    \n",
    "if result == X:\n",
    "    print(\"Yes\")\n",
    "else:\n",
    "    print(\"No\")"
   ]
  },
  {
   "cell_type": "code",
   "execution_count": 102,
   "metadata": {},
   "outputs": [
    {
     "name": "stdout",
     "output_type": "stream",
     "text": [
      "long long int\n"
     ]
    }
   ],
   "source": [
    "N = int(input())\n",
    "\n",
    "if N % 4 == 0:\n",
    "    n = N//4\n",
    "else:\n",
    "    n = N//4 + 1\n",
    "\n",
    "str_long = \"\"\n",
    "for i in range(n):\n",
    "    str_long += \"long \"\n",
    "    \n",
    "print(str_long + \"int\")"
   ]
  },
  {
   "cell_type": "code",
   "execution_count": null,
   "metadata": {},
   "outputs": [],
   "source": [
    "import sys\n",
    "\n",
    "T = int(input())\n",
    "\n",
    "for i in range(T):\n",
    "    a, b = map(int, sys.stdin.readline().split())\n",
    "    print(a + b)"
   ]
  },
  {
   "cell_type": "code",
   "execution_count": null,
   "metadata": {},
   "outputs": [],
   "source": [
    "import sys\n",
    "\n",
    "T = int(input())\n",
    "\n",
    "for i in range(T):\n",
    "    a, b = map(int, sys.stdin.readline().split())\n",
    "    print(f\"Case #{i+1}: {a+b}\")"
   ]
  },
  {
   "cell_type": "code",
   "execution_count": null,
   "metadata": {},
   "outputs": [],
   "source": [
    "import sys\n",
    "\n",
    "T = int(input())\n",
    "\n",
    "for i in range(T):\n",
    "    a, b = map(int, sys.stdin.readline().split())\n",
    "    print(f\"Case #{i+1}: {a} + {b} = {a+b}\")"
   ]
  },
  {
   "cell_type": "code",
   "execution_count": 1,
   "metadata": {},
   "outputs": [
    {
     "name": "stdout",
     "output_type": "stream",
     "text": [
      "*\n",
      "**\n",
      "***\n",
      "****\n",
      "*****\n"
     ]
    }
   ],
   "source": [
    "n = int(input())\n",
    "\n",
    "for i in range(1, n+1):\n",
    "    print(\"*\" * i)"
   ]
  },
  {
   "cell_type": "code",
   "execution_count": null,
   "metadata": {},
   "outputs": [],
   "source": [
    "while True:\n",
    "    try:\n",
    "        a, b = map(int, input().split(\" \"))\n",
    "        print(a + b)\n",
    "    except EOFError:\n",
    "        break"
   ]
  },
  {
   "cell_type": "code",
   "execution_count": 9,
   "metadata": {},
   "outputs": [
    {
     "name": "stdout",
     "output_type": "stream",
     "text": [
      "[1, 4, 1, 2, 4, 2, 4, 2, 3, 4, 4]\n",
      "3\n"
     ]
    }
   ],
   "source": [
    "n = int(input())\n",
    "li = list(map(int, input().split(\" \")))\n",
    "v = int(input())\n",
    "\n",
    "count = 0\n",
    "for x in li:\n",
    "    if x == v:\n",
    "        count += 1\n",
    "        \n",
    "print(count)"
   ]
  },
  {
   "cell_type": "code",
   "execution_count": 11,
   "metadata": {},
   "outputs": [
    {
     "name": "stdout",
     "output_type": "stream",
     "text": [
      "1 4 2 3 "
     ]
    }
   ],
   "source": [
    "n, x = map(int, input().split(\" \"))\n",
    "li = list(map(int, input().split(\" \")))\n",
    "\n",
    "for i in li:\n",
    "    if i < x:\n",
    "        print(i, end=\" \")"
   ]
  },
  {
   "cell_type": "code",
   "execution_count": 12,
   "metadata": {},
   "outputs": [
    {
     "name": "stdout",
     "output_type": "stream",
     "text": [
      "7 35\n"
     ]
    }
   ],
   "source": [
    "n = int(input())\n",
    "li = list(map(int, input().split(\" \")))\n",
    "\n",
    "print(min(li), max(li))"
   ]
  },
  {
   "cell_type": "code",
   "execution_count": 16,
   "metadata": {},
   "outputs": [
    {
     "name": "stdout",
     "output_type": "stream",
     "text": [
      "85\n",
      "8\n"
     ]
    }
   ],
   "source": [
    "li = []\n",
    "for i in range(9):\n",
    "    n = int(input())\n",
    "    li.append(n)\n",
    "\n",
    "max_value = max(li)\n",
    "    \n",
    "print(max_value)\n",
    "print(li.index(max_value) + 1)"
   ]
  },
  {
   "cell_type": "code",
   "execution_count": 18,
   "metadata": {},
   "outputs": [
    {
     "name": "stdout",
     "output_type": "stream",
     "text": [
      "[1, 1, 0]\n"
     ]
    }
   ],
   "source": [
    "li = [0, 0, 0]\n",
    "li[:2] = [1, 1]\n",
    "print(li)"
   ]
  },
  {
   "cell_type": "code",
   "execution_count": 26,
   "metadata": {},
   "outputs": [
    {
     "name": "stdout",
     "output_type": "stream",
     "text": [
      "1 2 1 1 0\n"
     ]
    }
   ],
   "source": [
    "n, m = map(int, input().split(\" \"))\n",
    "\n",
    "result = [0 for _ in range(n)]\n",
    "\n",
    "for i in range(m):\n",
    "    start, end, num = map(int, input().split(\" \"))\n",
    "    result[start-1:end] = [num for _ in range(end - start + 1)]\n",
    "    \n",
    "print(\" \".join(map(str, result)))"
   ]
  },
  {
   "cell_type": "code",
   "execution_count": 33,
   "metadata": {},
   "outputs": [
    {
     "name": "stdout",
     "output_type": "stream",
     "text": [
      "3 1 4 2 5\n"
     ]
    }
   ],
   "source": [
    "n, m = map(int, input().split(\" \"))\n",
    "\n",
    "result = [i for i in range(1, n+1)]\n",
    "\n",
    "for i in range(m):\n",
    "    a, b = map(int, input().split(\" \"))\n",
    "    result[a-1], result[b-1] = result[b-1], result[a-1]\n",
    "    \n",
    "print(\" \".join(map(str, result)))"
   ]
  },
  {
   "cell_type": "code",
   "execution_count": 36,
   "metadata": {},
   "outputs": [
    {
     "name": "stdout",
     "output_type": "stream",
     "text": [
      "[2, 8]\n"
     ]
    }
   ],
   "source": [
    "result = [i for i in range(1, 31)]\n",
    "\n",
    "for i in range(28):\n",
    "    n = int(input())\n",
    "    result.remove(n)\n",
    "    \n",
    "print(min(result), max(result))"
   ]
  },
  {
   "cell_type": "code",
   "execution_count": 38,
   "metadata": {},
   "outputs": [
    {
     "name": "stdout",
     "output_type": "stream",
     "text": [
      "1\n"
     ]
    }
   ],
   "source": [
    "remains = []\n",
    "\n",
    "for _ in range(10):\n",
    "    n = int(input())\n",
    "    remains.append(n % 42)\n",
    "    \n",
    "print(len(set(remains)))"
   ]
  },
  {
   "cell_type": "code",
   "execution_count": 69,
   "metadata": {},
   "outputs": [
    {
     "name": "stdout",
     "output_type": "stream",
     "text": [
      "3 4 1 2 5\n"
     ]
    }
   ],
   "source": [
    "n, m = map(int, input().split(\" \"))\n",
    "\n",
    "baskets = [i for i in range(1, n+1)]\n",
    "\n",
    "for i in range(m):\n",
    "    start, end = map(int, input().split(\" \"))\n",
    "    \n",
    "    tmp = baskets[start-1:end]\n",
    "    tmp.reverse()\n",
    "    baskets[start-1:end] = tmp\n",
    "    \n",
    "print(\" \".join(map(str, baskets)))"
   ]
  },
  {
   "cell_type": "code",
   "execution_count": 81,
   "metadata": {},
   "outputs": [
    {
     "name": "stdout",
     "output_type": "stream",
     "text": [
      "75.0\n"
     ]
    }
   ],
   "source": [
    "n = int(input())\n",
    "scores = list(map(int, input().split(\" \")))\n",
    "\n",
    "max_score = max(scores)\n",
    "\n",
    "new_scores = []\n",
    "for score in scores:\n",
    "    new_scores.append((score / max_score) * 100)\n",
    "\n",
    "print(sum(new_scores)/len(new_scores))"
   ]
  },
  {
   "cell_type": "code",
   "execution_count": 85,
   "metadata": {},
   "outputs": [
    {
     "name": "stdout",
     "output_type": "stream",
     "text": [
      "p\n"
     ]
    }
   ],
   "source": [
    "s = str(input())\n",
    "n = int(input())\n",
    "\n",
    "print(s[n-1])"
   ]
  },
  {
   "cell_type": "code",
   "execution_count": 86,
   "metadata": {},
   "outputs": [
    {
     "name": "stdout",
     "output_type": "stream",
     "text": [
      "8\n"
     ]
    }
   ],
   "source": [
    "s = str(input())\n",
    "\n",
    "print(len(s))"
   ]
  },
  {
   "cell_type": "code",
   "execution_count": 87,
   "metadata": {},
   "outputs": [
    {
     "name": "stdout",
     "output_type": "stream",
     "text": [
      "AE\n",
      "OO\n",
      "AB\n"
     ]
    }
   ],
   "source": [
    "n = int(input())\n",
    "\n",
    "for i in range(n):\n",
    "    s = str(input())\n",
    "    print(s[0] + s[-1])"
   ]
  },
  {
   "cell_type": "code",
   "execution_count": 89,
   "metadata": {},
   "outputs": [
    {
     "name": "stdout",
     "output_type": "stream",
     "text": [
      "65\n"
     ]
    }
   ],
   "source": [
    "s = str(input())\n",
    "\n",
    "print(ord(s))"
   ]
  },
  {
   "cell_type": "code",
   "execution_count": 91,
   "metadata": {},
   "outputs": [
    {
     "name": "stdout",
     "output_type": "stream",
     "text": [
      "15\n"
     ]
    }
   ],
   "source": [
    "n = int(input())\n",
    "s = str(input())\n",
    "\n",
    "result = 0\n",
    "for x in s:\n",
    "    result += int(x)\n",
    "\n",
    "print(result)"
   ]
  },
  {
   "cell_type": "code",
   "execution_count": 113,
   "metadata": {},
   "outputs": [
    {
     "name": "stdout",
     "output_type": "stream",
     "text": [
      "1 0 -1 -1 2 -1 -1 -1 -1 4 3 -1 -1 7 5 -1 -1 -1 -1 -1 -1 -1 -1 -1 -1 -1\n"
     ]
    }
   ],
   "source": [
    "s = str(input())\n",
    "\n",
    "result = [-1 for _ in range(26)]\n",
    "\n",
    "for i in range(len(s)-1, -1, -1):\n",
    "    idx = ord(s[i]) - 97\n",
    "    result[idx] = i\n",
    "\n",
    "print(\" \".join(map(str, result)))"
   ]
  },
  {
   "cell_type": "code",
   "execution_count": 120,
   "metadata": {},
   "outputs": [
    {
     "name": "stdout",
     "output_type": "stream",
     "text": [
      "AAABBBCCC\n",
      "/////HHHHHTTTTTPPPPP\n"
     ]
    }
   ],
   "source": [
    "n = int(input())\n",
    "\n",
    "for _ in range(n):\n",
    "    r, s = map(str, input().split(\" \"))\n",
    "    \n",
    "    for x in s:\n",
    "        print(x * int(r), end=\"\")\n",
    "        \n",
    "    print()"
   ]
  },
  {
   "cell_type": "code",
   "execution_count": 8,
   "metadata": {},
   "outputs": [
    {
     "name": "stdout",
     "output_type": "stream",
     "text": [
      "0\n"
     ]
    }
   ],
   "source": [
    "sentence = str(input()).strip()\n",
    "\n",
    "words = sentence.split(\" \")\n",
    "result = [word for word in words if word != \"\"]\n",
    "\n",
    "print(len(result))"
   ]
  },
  {
   "cell_type": "code",
   "execution_count": 12,
   "metadata": {},
   "outputs": [
    {
     "name": "stdout",
     "output_type": "stream",
     "text": [
      "437\n"
     ]
    }
   ],
   "source": [
    "a, b = map(str, input().split(\" \"))\n",
    "\n",
    "a_reverse, b_reverse = int(a[::-1]), int(b[::-1])\n",
    "\n",
    "if a_reverse > b_reverse:\n",
    "    print(a_reverse)\n",
    "else:\n",
    "    print(b_reverse)"
   ]
  },
  {
   "cell_type": "code",
   "execution_count": 24,
   "metadata": {},
   "outputs": [
    {
     "name": "stdout",
     "output_type": "stream",
     "text": [
      "36\n"
     ]
    }
   ],
   "source": [
    "words = str(input())\n",
    "\n",
    "dial_words = [\"ABC\", \"DEF\", \"GHI\", \"JKL\", \"MNO\", \"PQRS\", \"TUV\", \"WXYZ\"]\n",
    "\n",
    "dial_nums = []\n",
    "for i in range(len(words)):\n",
    "    for j in range(len(dial_words)):\n",
    "        if words[i] in dial_words[j]:\n",
    "            dial_nums.append(j + 2)\n",
    "\n",
    "t = [dial_num + 1 for dial_num in dial_nums]\n",
    "print(sum(t))"
   ]
  },
  {
   "cell_type": "code",
   "execution_count": null,
   "metadata": {},
   "outputs": [
    {
     "name": "stdout",
     "output_type": "stream",
     "text": [
      "\n"
     ]
    }
   ],
   "source": [
    "for _ in range(100):\n",
    "    try:\n",
    "        s = str(input())\n",
    "        print(s)\n",
    "    except EOFError:\n",
    "        break"
   ]
  },
  {
   "cell_type": "code",
   "execution_count": 26,
   "metadata": {},
   "outputs": [
    {
     "name": "stdout",
     "output_type": "stream",
     "text": [
      "         ,r'\"7\n",
      "r`-_   ,'  ,/\n",
      " \\. \". L_r'\n",
      "   `~\\/\n",
      "      |\n",
      "      |\n"
     ]
    }
   ],
   "source": [
    "print(\"\"\"         ,r'\"7\n",
    "r`-_   ,'  ,/\n",
    " \\. \". L_r'\n",
    "   `~\\/\n",
    "      |\n",
    "      |\"\"\")"
   ]
  },
  {
   "cell_type": "code",
   "execution_count": 30,
   "metadata": {},
   "outputs": [
    {
     "name": "stdout",
     "output_type": "stream",
     "text": [
      "1 0 0 0 0 1\n"
     ]
    }
   ],
   "source": [
    "pieces = list(map(int, input().split(\" \")))\n",
    "\n",
    "chess_pieces = [1, 1, 2, 2, 2, 8]\n",
    "\n",
    "result = [chess_pieces[i] - pieces[i] for i in range(len(pieces))]\n",
    "print(\" \".join(map(str, result)))"
   ]
  },
  {
   "cell_type": "code",
   "execution_count": 47,
   "metadata": {},
   "outputs": [
    {
     "name": "stdout",
     "output_type": "stream",
     "text": [
      "         *\n",
      "        ***\n",
      "       *****\n",
      "      *******\n",
      "     *********\n",
      "    ***********\n",
      "   *************\n",
      "  ***************\n",
      " *****************\n",
      "*******************\n",
      " *****************\n",
      "  ***************\n",
      "   *************\n",
      "    ***********\n",
      "     *********\n",
      "      *******\n",
      "       *****\n",
      "        ***\n",
      "         *\n"
     ]
    }
   ],
   "source": [
    "n = int(input())\n",
    "\n",
    "for i in range(1, 2*n):\n",
    "    if i <= n:\n",
    "        print((\" \" * (n-i)) + (\"*\" * (2*i-1)))\n",
    "    else:\n",
    "        print((\" \" * (i-n)) + (\"*\" * ((4*n-1)-2*i)))"
   ]
  },
  {
   "cell_type": "code",
   "execution_count": 116,
   "metadata": {},
   "outputs": [
    {
     "name": "stdout",
     "output_type": "stream",
     "text": [
      "1\n"
     ]
    }
   ],
   "source": [
    "word = str(input())\n",
    "\n",
    "half_idx = len(word) // 2\n",
    "if half_idx == 0:\n",
    "    print(1)\n",
    "else:\n",
    "    for i in range(half_idx):\n",
    "        if word[i] != word[-1-i]:\n",
    "            print(0)\n",
    "            break\n",
    "        else:\n",
    "            if i == half_idx - 1:\n",
    "                print(1)"
   ]
  },
  {
   "cell_type": "code",
   "execution_count": null,
   "metadata": {},
   "outputs": [
    {
     "name": "stdout",
     "output_type": "stream",
     "text": [
      "A\n"
     ]
    }
   ],
   "source": [
    "word = str(input())\n",
    "\n",
    "upper_word = word.upper()\n",
    "counts = [0 for _ in range(26)]\n",
    "for x in upper_word:\n",
    "    idx = ord(x) - ord(\"A\")\n",
    "    counts[idx] += 1\n",
    "    \n",
    "max_count = max(counts)\n",
    "max_count_idx = [i for i, value in enumerate(counts) if value == max_count]\n",
    "if len(max_count_idx) == 1:\n",
    "    print(chr(max_count_idx[0] + 65))\n",
    "else:\n",
    "    print(\"?\")"
   ]
  },
  {
   "cell_type": "code",
   "execution_count": 181,
   "metadata": {},
   "outputs": [
    {
     "name": "stdout",
     "output_type": "stream",
     "text": [
      "2\n"
     ]
    }
   ],
   "source": [
    "word = str(input())\n",
    "\n",
    "eng_for_croatia = [\"c=\", \"c-\", \"dz=\", \"d-\", \"lj\", \"nj\", \"s=\", \"z=\"]\n",
    "\n",
    "count = 0\n",
    "for x in eng_for_croatia:\n",
    "    if x in word:\n",
    "        word = word.replace(x, \" \")\n",
    "        \n",
    "print(len(word))"
   ]
  },
  {
   "cell_type": "code",
   "execution_count": 266,
   "metadata": {},
   "outputs": [
    {
     "name": "stdout",
     "output_type": "stream",
     "text": [
      "1\n"
     ]
    }
   ],
   "source": [
    "n = int(input())\n",
    "\n",
    "count = 0\n",
    "for i in range(n):\n",
    "    word = list(str(input()))\n",
    "    \n",
    "    alphabets = list(set(word))\n",
    "    alphabet_idx = []\n",
    "    for alphabet in alphabets:\n",
    "        all_idx = list(filter(lambda x: word[x] == alphabet, range(len(word))))\n",
    "        alphabet_idx.append(all_idx)\n",
    "\n",
    "    test_count = 0\n",
    "    for idx in alphabet_idx:\n",
    "        if (idx[0] + len(idx) - 1) != idx[-1]:\n",
    "            break\n",
    "        else:\n",
    "            test_count += 1\n",
    "\n",
    "        if test_count == len(alphabet_idx):\n",
    "            count += 1\n",
    "    \n",
    "print(count)"
   ]
  },
  {
   "cell_type": "code",
   "execution_count": null,
   "metadata": {},
   "outputs": [],
   "source": [
    "score_trans = {\"A+\":4.5, \"A0\":4.0,\n",
    "               \"B+\":3.5, \"B0\":3.0,\n",
    "               \"C+\":2.5, \"C0\":2.0,\n",
    "               \"D+\":1.5, \"D0\":1.0,\n",
    "               \"F\":0.0}\n",
    "\n",
    "credits, scores = [], []\n",
    "for _ in range(20):\n",
    "    subject, credit, score = map(str, input().split(\" \"))\n",
    "    \n",
    "    if score != \"P\":\n",
    "        credits.append(float(credit))\n",
    "        scores.append(score_trans[score])\n",
    "    \n",
    "    else:\n",
    "        continue\n",
    "\n",
    "sum_score = sum([credits[i] * scores[i] for i in range(len(credits))])\n",
    "sum_credit = sum(credits)\n",
    "\n",
    "avg_score = sum_score / sum_credit\n",
    "\n",
    "print(avg_score)"
   ]
  },
  {
   "cell_type": "code",
   "execution_count": null,
   "metadata": {},
   "outputs": [
    {
     "name": "stdout",
     "output_type": "stream",
     "text": [
      "4 4 4\n",
      "6 6 6\n",
      "5 6 100\n"
     ]
    }
   ],
   "source": [
    "n, m = map(int, input().split(\" \"))\n",
    "\n",
    "a = [[0 for _ in range(m)] for _ in range(n)]\n",
    "b = [[0 for _ in range(m)] for _ in range(n)]\n",
    "for i in range(n):\n",
    "    a[i] = list(map(int, input().split(\" \")))\n",
    "for i in range(n):\n",
    "    b[i] = list(map(int, input().split(\" \")))\n",
    "\n",
    "result = [[0 for _ in range(m)] for _ in range(n)]\n",
    "for i in range(n):\n",
    "    result[i] = [a[i][j] + b[i][j] for j in range(m)]\n",
    "    print(\" \".join(map(str, result[i])))"
   ]
  },
  {
   "cell_type": "code",
   "execution_count": null,
   "metadata": {},
   "outputs": [
    {
     "name": "stdout",
     "output_type": "stream",
     "text": [
      "[[3, 23, 85], [10, 7, 39], [87, 42, 18]]\n",
      "max_values: [85, 39, 87]\n",
      "max_value: 87\n",
      "max_row: 2\n",
      "max_col: 0\n"
     ]
    }
   ],
   "source": [
    "arr = [[0 for _ in range(3)] for _ in range(3)]\n",
    "\n",
    "for i in range(3):\n",
    "    arr[i] = list(map(int, input().split(\" \")))\n",
    "\n",
    "max_values = [max(arr[i]) for i in range(len(arr))]\n",
    "max_value = max(max_values)\n",
    "max_row_idx = max_values.index(max_value)\n",
    "max_col_idx = arr[max_row_idx].index(max_value)\n",
    "\n",
    "print(max_value)\n",
    "print(max_row_idx + 1, max_col_idx + 1)"
   ]
  },
  {
   "cell_type": "code",
   "execution_count": null,
   "metadata": {},
   "outputs": [
    {
     "name": "stdout",
     "output_type": "stream",
     "text": [
      "[['a', 'b', 'c', 'd', 'e', '', '', '', '', '', '', '', '', '', ''], ['a', 'b', 'c', 'd', 'e', '', '', '', '', '', '', '', '', '', ''], ['a', 'b', 'c', 'd', 'e', '', '', '', '', '', '', '', '', '', ''], ['a', 'b', 'c', 'd', 'e', '', '', '', '', '', '', '', '', '', ''], ['a', 'b', 'c', 'd', 'e', '', '', '', '', '', '', '', '', '', '']]\n",
      "aaaaabbbbbcccccdddddeeeee"
     ]
    }
   ],
   "source": [
    "arr = [[\"\" for _ in range(15)] for _ in range(5)]\n",
    "\n",
    "for i in range(5):\n",
    "    tmp = list(str(input()))\n",
    "    arr[i][0:len(tmp)] = tmp\n",
    "\n",
    "for col in range(15):\n",
    "    for row in range(5):\n",
    "        print(arr[row][col], end=\"\")"
   ]
  },
  {
   "cell_type": "code",
   "execution_count": 21,
   "metadata": {},
   "outputs": [
    {
     "name": "stdout",
     "output_type": "stream",
     "text": [
      "260\n"
     ]
    }
   ],
   "source": [
    "n = int(input())\n",
    "\n",
    "areas = [[0 for _ in range(100)] for _ in range(100)]\n",
    "\n",
    "for i in range(n):\n",
    "    width, height = map(int, input().split(\" \"))\n",
    "\n",
    "    for w in range(width, width+10):\n",
    "        for h in range(height, height+10):\n",
    "            if areas[w][h] == 0:\n",
    "                areas[w][h] = 1\n",
    "            else:\n",
    "                continue\n",
    "\n",
    "print(sum([sum(area) for area in areas]))"
   ]
  },
  {
   "cell_type": "code",
   "execution_count": 15,
   "metadata": {},
   "outputs": [
    {
     "name": "stdout",
     "output_type": "stream",
     "text": [
      "4 2 0 4\n",
      "1 0 0 0\n",
      "7 1 1 4\n"
     ]
    }
   ],
   "source": [
    "# 2720\n",
    "import math\n",
    "\n",
    "n = int(input())\n",
    "\n",
    "coins = [0 for _ in range(4)]\n",
    "\n",
    "for _ in range(n):\n",
    "    changes = int(input())\n",
    "    \n",
    "    quaters = int(changes // 25)\n",
    "    changes = changes % 25\n",
    "    \n",
    "    dimes = int(changes // 10)\n",
    "    changes = changes % 10\n",
    "    \n",
    "    nickels = int(changes // 5)\n",
    "    changes = changes % 5\n",
    "    \n",
    "    pennys = math.ceil(changes)\n",
    "    \n",
    "    print(quaters, dimes, nickels, pennys)"
   ]
  },
  {
   "cell_type": "code",
   "execution_count": 17,
   "metadata": {},
   "outputs": [
    {
     "name": "stdout",
     "output_type": "stream",
     "text": [
      "1089\n"
     ]
    }
   ],
   "source": [
    "# 2903\n",
    "n = int(input())\n",
    "\n",
    "squres = (2 ** n)\n",
    "dots = squres + 1\n",
    "\n",
    "print(dots ** 2)"
   ]
  },
  {
   "cell_type": "code",
   "execution_count": 2,
   "metadata": {},
   "outputs": [
    {
     "name": "stdout",
     "output_type": "stream",
     "text": [
      "factor\n",
      "multiple\n",
      "neither\n"
     ]
    }
   ],
   "source": [
    "# 5086\n",
    "while True:\n",
    "    \n",
    "    a, b = map(int, input().split(\" \"))\n",
    "    \n",
    "    if (a == 0) & (b == 0):\n",
    "        break\n",
    "    \n",
    "    else:\n",
    "        if b % a == 0:\n",
    "            print(\"factor\")\n",
    "        elif a % b == 0:\n",
    "            print(\"multiple\")\n",
    "        else:\n",
    "            print(\"neither\")"
   ]
  },
  {
   "cell_type": "code",
   "execution_count": 16,
   "metadata": {},
   "outputs": [
    {
     "name": "stdout",
     "output_type": "stream",
     "text": [
      "0\n"
     ]
    }
   ],
   "source": [
    "# 2501\n",
    "n, k = map(int, input().split(\" \"))\n",
    "\n",
    "result = []\n",
    "\n",
    "for i in range(1, n+1):\n",
    "    if n % i == 0:\n",
    "        result.append(i)\n",
    "\n",
    "try:\n",
    "    print(result[k-1])\n",
    "except IndexError:\n",
    "    print(0)"
   ]
  },
  {
   "cell_type": "code",
   "execution_count": 41,
   "metadata": {},
   "outputs": [
    {
     "name": "stdout",
     "output_type": "stream",
     "text": [
      "6 = 1 + 2 + 3\n",
      "12 is Not perfect.\n",
      "28 = 1 + 2 + 4 + 7 + 14\n"
     ]
    }
   ],
   "source": [
    "# 9506\n",
    "while True:\n",
    "    \n",
    "    n = int(input())\n",
    "    \n",
    "    if n == -1:\n",
    "        break\n",
    "    \n",
    "    else:\n",
    "        result = []\n",
    "        \n",
    "        for i in range(1, n):\n",
    "            if n % i == 0:\n",
    "                result.append(i) \n",
    "\n",
    "        if n == sum(result):\n",
    "            print(f\"{n} = {result[0]}\", end=\"\")\n",
    "            for i in range(1, len(result)):\n",
    "                print(f\" + {result[i]}\", end=\"\")\n",
    "            print()\n",
    "        else:\n",
    "            print(f\"{n} is Not perfect.\")"
   ]
  },
  {
   "cell_type": "code",
   "execution_count": null,
   "metadata": {},
   "outputs": [],
   "source": [
    "# 1978\n",
    "n = int(input())\n",
    "\n",
    "nums = list(map(int, input().split(\" \")))\n",
    "\n",
    "count = 0\n",
    "for num in nums:\n",
    "    tmp = []\n",
    "    for i in range(1, num+1):\n",
    "        if num % i == 0:\n",
    "            tmp.append(i)\n",
    "\n",
    "    if len(tmp) == 2:\n",
    "        count += 1\n",
    "\n",
    "print(count)"
   ]
  },
  {
   "cell_type": "code",
   "execution_count": 16,
   "metadata": {},
   "outputs": [
    {
     "name": "stdout",
     "output_type": "stream",
     "text": [
      "17\n",
      "2\n"
     ]
    }
   ],
   "source": [
    "# 2581\n",
    "m = int(input())\n",
    "n = int(input())\n",
    "\n",
    "result = []\n",
    "\n",
    "for i in range(m, n+1):\n",
    "    if i in [2, 3]:\n",
    "        result.append(i)\n",
    "    else:\n",
    "        for j in range(2, i):\n",
    "            if i % j == 0:\n",
    "                break\n",
    "            else:\n",
    "                if j == (i-1):\n",
    "                    result.append(i)\n",
    "\n",
    "if len(result) == 0:\n",
    "    print(-1)\n",
    "else:\n",
    "    print(sum(result))\n",
    "    print(min(result))"
   ]
  },
  {
   "cell_type": "code",
   "execution_count": null,
   "metadata": {},
   "outputs": [
    {
     "name": "stdout",
     "output_type": "stream",
     "text": [
      "6 = 1 + 2 + 3\n",
      "12 is Not Perfect.\n",
      "28 = 1 + 2 + 4 + 7 + 14\n"
     ]
    }
   ],
   "source": [
    "# 9506\n",
    "\n",
    "while True:\n",
    "    \n",
    "    n = int(input())\n",
    "    \n",
    "    if n == -1:\n",
    "        break\n",
    "    \n",
    "    measures = []\n",
    "    for i in range(1, n-1):\n",
    "        if n % i == 0:\n",
    "            measures.append(i)\n",
    "        else:\n",
    "            continue\n",
    "    \n",
    "    if sum(measures) == n:\n",
    "        print(f\"{n} = \" + \" + \".join(map(str, measures)))\n",
    "        \n",
    "    else:\n",
    "        print(f\"{n} is NOT perfect.\")"
   ]
  },
  {
   "cell_type": "code",
   "execution_count": null,
   "metadata": {},
   "outputs": [
    {
     "name": "stdout",
     "output_type": "stream",
     "text": [
      "347\n"
     ]
    }
   ],
   "source": [
    "# 1085\n",
    "x, y, w, h = map(int, input().split(\" \"))\n",
    "\n",
    "dist = min(x-0, y-0, w-x, h-y)\n",
    "\n",
    "print(dist)"
   ]
  },
  {
   "cell_type": "code",
   "execution_count": 108,
   "metadata": {},
   "outputs": [
    {
     "name": "stdout",
     "output_type": "stream",
     "text": [
      "2/2\n"
     ]
    }
   ],
   "source": [
    "# 1193\n",
    "x = int(input())\n",
    "\n",
    "i, j = 0, 1\n",
    "while True:\n",
    "    i += j\n",
    "    \n",
    "    if i >= x:\n",
    "        break\n",
    "    \n",
    "    j += 1\n",
    "\n",
    "if j % 2 == 0:\n",
    "    num = j - (i - x)\n",
    "    den = (j + 1) - num\n",
    "else:\n",
    "    den = j - (i - x)\n",
    "    num = (j + 1) - den\n",
    "\n",
    "print(f\"{num}/{den}\")"
   ]
  },
  {
   "cell_type": "code",
   "execution_count": null,
   "metadata": {},
   "outputs": [
    {
     "name": "stdout",
     "output_type": "stream",
     "text": [
      "33\n"
     ]
    }
   ],
   "source": [
    "### 문제 정보 ###\n",
    "# 2979. 트럭 주차\n",
    "# https://www.acmicpc.net/problem/2979\n",
    "\n",
    "### 문제 풀이\n",
    "# 1. 시간 별로 주차장에 존재하는 트럭 수 리스트 생성\n",
    "# 2. 시간 별 \"한 대 당\" 비용 계산\n",
    "# 3. 총 비용 출력력\n",
    "\n",
    "a, b, c = map(int, input().split(\" \"))\n",
    "\n",
    "result = [0 for _ in range(100)]\n",
    "for _ in range(3):\n",
    "    start, end = map(int, input().split(\" \"))\n",
    "    \n",
    "    for i in range(start, end):\n",
    "        result[i] += 1\n",
    "\n",
    "time1 = result.count(1)\n",
    "time2 = result.count(2)\n",
    "time3 = result.count(3)\n",
    "\n",
    "total_charge = a * time1 + 2 * b * time2 + 3 * c * time3\n",
    "\n",
    "print(total_charge)"
   ]
  },
  {
   "cell_type": "code",
   "execution_count": null,
   "metadata": {},
   "outputs": [
    {
     "name": "stdout",
     "output_type": "stream",
     "text": [
      "1\n",
      "3\n",
      "5\n",
      "7\n",
      "9\n",
      "20\n",
      "31\n",
      "42\n",
      "53\n",
      "64\n",
      "75\n",
      "86\n",
      "97\n",
      "108\n",
      "110\n",
      "121\n",
      "132\n",
      "143\n",
      "154\n",
      "165\n",
      "176\n",
      "187\n",
      "198\n",
      "209\n",
      "211\n",
      "222\n",
      "233\n",
      "244\n",
      "255\n",
      "266\n",
      "277\n",
      "288\n",
      "299\n",
      "310\n",
      "312\n",
      "323\n",
      "334\n",
      "345\n",
      "356\n",
      "367\n",
      "378\n",
      "389\n",
      "400\n",
      "411\n",
      "413\n",
      "424\n",
      "435\n",
      "446\n",
      "457\n",
      "468\n",
      "479\n",
      "490\n",
      "501\n",
      "512\n",
      "514\n",
      "525\n",
      "536\n",
      "547\n",
      "558\n",
      "569\n",
      "580\n",
      "591\n",
      "602\n",
      "613\n",
      "615\n",
      "626\n",
      "637\n",
      "648\n",
      "659\n",
      "670\n",
      "681\n",
      "692\n",
      "703\n",
      "714\n",
      "716\n",
      "727\n",
      "738\n",
      "749\n",
      "760\n",
      "771\n",
      "782\n",
      "793\n",
      "804\n",
      "815\n",
      "817\n",
      "828\n",
      "839\n",
      "850\n",
      "861\n",
      "872\n",
      "883\n",
      "894\n",
      "905\n",
      "916\n",
      "918\n",
      "929\n",
      "940\n",
      "951\n",
      "962\n",
      "973\n",
      "984\n",
      "995\n",
      "1006\n",
      "1021\n",
      "1032\n",
      "1043\n",
      "1054\n",
      "1065\n",
      "1076\n",
      "1087\n",
      "1098\n",
      "1109\n",
      "1111\n",
      "1122\n",
      "1133\n",
      "1144\n",
      "1155\n",
      "1166\n",
      "1177\n",
      "1188\n",
      "1199\n",
      "1210\n",
      "1212\n",
      "1223\n",
      "1234\n",
      "1245\n",
      "1256\n",
      "1267\n",
      "1278\n",
      "1289\n",
      "1300\n",
      "1311\n",
      "1313\n",
      "1324\n",
      "1335\n",
      "1346\n",
      "1357\n",
      "1368\n",
      "1379\n",
      "1390\n",
      "1401\n",
      "1412\n",
      "1414\n",
      "1425\n",
      "1436\n",
      "1447\n",
      "1458\n",
      "1469\n",
      "1480\n",
      "1491\n",
      "1502\n",
      "1513\n",
      "1515\n",
      "1526\n",
      "1537\n",
      "1548\n",
      "1559\n",
      "1570\n",
      "1581\n",
      "1592\n",
      "1603\n",
      "1614\n",
      "1616\n",
      "1627\n",
      "1638\n",
      "1649\n",
      "1660\n",
      "1671\n",
      "1682\n",
      "1693\n",
      "1704\n",
      "1715\n",
      "1717\n",
      "1728\n",
      "1739\n",
      "1750\n",
      "1761\n",
      "1772\n",
      "1783\n",
      "1794\n",
      "1805\n",
      "1816\n",
      "1818\n",
      "1829\n",
      "1840\n",
      "1851\n",
      "1862\n",
      "1873\n",
      "1884\n",
      "1895\n",
      "1906\n",
      "1917\n",
      "1919\n",
      "1930\n",
      "1941\n",
      "1952\n",
      "1963\n",
      "1974\n",
      "1985\n",
      "1996\n",
      "2007\n",
      "2022\n",
      "2033\n",
      "2044\n",
      "2055\n",
      "2066\n",
      "2077\n",
      "2088\n",
      "2099\n",
      "2110\n",
      "2112\n",
      "2123\n",
      "2134\n",
      "2145\n",
      "2156\n",
      "2167\n",
      "2178\n",
      "2189\n",
      "2200\n",
      "2211\n",
      "2213\n",
      "2224\n",
      "2235\n",
      "2246\n",
      "2257\n",
      "2268\n",
      "2279\n",
      "2290\n",
      "2301\n",
      "2312\n",
      "2314\n",
      "2325\n",
      "2336\n",
      "2347\n",
      "2358\n",
      "2369\n",
      "2380\n",
      "2391\n",
      "2402\n",
      "2413\n",
      "2415\n",
      "2426\n",
      "2437\n",
      "2448\n",
      "2459\n",
      "2470\n",
      "2481\n",
      "2492\n",
      "2503\n",
      "2514\n",
      "2516\n",
      "2527\n",
      "2538\n",
      "2549\n",
      "2560\n",
      "2571\n",
      "2582\n",
      "2593\n",
      "2604\n",
      "2615\n",
      "2617\n",
      "2628\n",
      "2639\n",
      "2650\n",
      "2661\n",
      "2672\n",
      "2683\n",
      "2694\n",
      "2705\n",
      "2716\n",
      "2718\n",
      "2729\n",
      "2740\n",
      "2751\n",
      "2762\n",
      "2773\n",
      "2784\n",
      "2795\n",
      "2806\n",
      "2817\n",
      "2819\n",
      "2830\n",
      "2841\n",
      "2852\n",
      "2863\n",
      "2874\n",
      "2885\n",
      "2896\n",
      "2907\n",
      "2918\n",
      "2920\n",
      "2931\n",
      "2942\n",
      "2953\n",
      "2964\n",
      "2975\n",
      "2986\n",
      "2997\n",
      "3008\n",
      "3023\n",
      "3034\n",
      "3045\n",
      "3056\n",
      "3067\n",
      "3078\n",
      "3089\n",
      "3100\n",
      "3111\n",
      "3113\n",
      "3124\n",
      "3135\n",
      "3146\n",
      "3157\n",
      "3168\n",
      "3179\n",
      "3190\n",
      "3201\n",
      "3212\n",
      "3214\n",
      "3225\n",
      "3236\n",
      "3247\n",
      "3258\n",
      "3269\n",
      "3280\n",
      "3291\n",
      "3302\n",
      "3313\n",
      "3315\n",
      "3326\n",
      "3337\n",
      "3348\n",
      "3359\n",
      "3370\n",
      "3381\n",
      "3392\n",
      "3403\n",
      "3414\n",
      "3416\n",
      "3427\n",
      "3438\n",
      "3449\n",
      "3460\n",
      "3471\n",
      "3482\n",
      "3493\n",
      "3504\n",
      "3515\n",
      "3517\n",
      "3528\n",
      "3539\n",
      "3550\n",
      "3561\n",
      "3572\n",
      "3583\n",
      "3594\n",
      "3605\n",
      "3616\n",
      "3618\n",
      "3629\n",
      "3640\n",
      "3651\n",
      "3662\n",
      "3673\n",
      "3684\n",
      "3695\n",
      "3706\n",
      "3717\n",
      "3719\n",
      "3730\n",
      "3741\n",
      "3752\n",
      "3763\n",
      "3774\n",
      "3785\n",
      "3796\n",
      "3807\n",
      "3818\n",
      "3820\n",
      "3831\n",
      "3842\n",
      "3853\n",
      "3864\n",
      "3875\n",
      "3886\n",
      "3897\n",
      "3908\n",
      "3919\n",
      "3921\n",
      "3932\n",
      "3943\n",
      "3954\n",
      "3965\n",
      "3976\n",
      "3987\n",
      "3998\n",
      "4009\n",
      "4024\n",
      "4035\n",
      "4046\n",
      "4057\n",
      "4068\n",
      "4079\n",
      "4090\n",
      "4101\n",
      "4112\n",
      "4114\n",
      "4125\n",
      "4136\n",
      "4147\n",
      "4158\n",
      "4169\n",
      "4180\n",
      "4191\n",
      "4202\n",
      "4213\n",
      "4215\n",
      "4226\n",
      "4237\n",
      "4248\n",
      "4259\n",
      "4270\n",
      "4281\n",
      "4292\n",
      "4303\n",
      "4314\n",
      "4316\n",
      "4327\n",
      "4338\n",
      "4349\n",
      "4360\n",
      "4371\n",
      "4382\n",
      "4393\n",
      "4404\n",
      "4415\n",
      "4417\n",
      "4428\n",
      "4439\n",
      "4450\n",
      "4461\n",
      "4472\n",
      "4483\n",
      "4494\n",
      "4505\n",
      "4516\n",
      "4518\n",
      "4529\n",
      "4540\n",
      "4551\n",
      "4562\n",
      "4573\n",
      "4584\n",
      "4595\n",
      "4606\n",
      "4617\n",
      "4619\n",
      "4630\n",
      "4641\n",
      "4652\n",
      "4663\n",
      "4674\n",
      "4685\n",
      "4696\n",
      "4707\n",
      "4718\n",
      "4720\n",
      "4731\n",
      "4742\n",
      "4753\n",
      "4764\n",
      "4775\n",
      "4786\n",
      "4797\n",
      "4808\n",
      "4819\n",
      "4821\n",
      "4832\n",
      "4843\n",
      "4854\n",
      "4865\n",
      "4876\n",
      "4887\n",
      "4898\n",
      "4909\n",
      "4920\n",
      "4922\n",
      "4933\n",
      "4944\n",
      "4955\n",
      "4966\n",
      "4977\n",
      "4988\n",
      "4999\n",
      "5010\n",
      "5025\n",
      "5036\n",
      "5047\n",
      "5058\n",
      "5069\n",
      "5080\n",
      "5091\n",
      "5102\n",
      "5113\n",
      "5115\n",
      "5126\n",
      "5137\n",
      "5148\n",
      "5159\n",
      "5170\n",
      "5181\n",
      "5192\n",
      "5203\n",
      "5214\n",
      "5216\n",
      "5227\n",
      "5238\n",
      "5249\n",
      "5260\n",
      "5271\n",
      "5282\n",
      "5293\n",
      "5304\n",
      "5315\n",
      "5317\n",
      "5328\n",
      "5339\n",
      "5350\n",
      "5361\n",
      "5372\n",
      "5383\n",
      "5394\n",
      "5405\n",
      "5416\n",
      "5418\n",
      "5429\n",
      "5440\n",
      "5451\n",
      "5462\n",
      "5473\n",
      "5484\n",
      "5495\n",
      "5506\n",
      "5517\n",
      "5519\n",
      "5530\n",
      "5541\n",
      "5552\n",
      "5563\n",
      "5574\n",
      "5585\n",
      "5596\n",
      "5607\n",
      "5618\n",
      "5620\n",
      "5631\n",
      "5642\n",
      "5653\n",
      "5664\n",
      "5675\n",
      "5686\n",
      "5697\n",
      "5708\n",
      "5719\n",
      "5721\n",
      "5732\n",
      "5743\n",
      "5754\n",
      "5765\n",
      "5776\n",
      "5787\n",
      "5798\n",
      "5809\n",
      "5820\n",
      "5822\n",
      "5833\n",
      "5844\n",
      "5855\n",
      "5866\n",
      "5877\n",
      "5888\n",
      "5899\n",
      "5910\n",
      "5921\n",
      "5923\n",
      "5934\n",
      "5945\n",
      "5956\n",
      "5967\n",
      "5978\n",
      "5989\n",
      "6000\n",
      "6011\n",
      "6026\n",
      "6037\n",
      "6048\n",
      "6059\n",
      "6070\n",
      "6081\n",
      "6092\n",
      "6103\n",
      "6114\n",
      "6116\n",
      "6127\n",
      "6138\n",
      "6149\n",
      "6160\n",
      "6171\n",
      "6182\n",
      "6193\n",
      "6204\n",
      "6215\n",
      "6217\n",
      "6228\n",
      "6239\n",
      "6250\n",
      "6261\n",
      "6272\n",
      "6283\n",
      "6294\n",
      "6305\n",
      "6316\n",
      "6318\n",
      "6329\n",
      "6340\n",
      "6351\n",
      "6362\n",
      "6373\n",
      "6384\n",
      "6395\n",
      "6406\n",
      "6417\n",
      "6419\n",
      "6430\n",
      "6441\n",
      "6452\n",
      "6463\n",
      "6474\n",
      "6485\n",
      "6496\n",
      "6507\n",
      "6518\n",
      "6520\n",
      "6531\n",
      "6542\n",
      "6553\n",
      "6564\n",
      "6575\n",
      "6586\n",
      "6597\n",
      "6608\n",
      "6619\n",
      "6621\n",
      "6632\n",
      "6643\n",
      "6654\n",
      "6665\n",
      "6676\n",
      "6687\n",
      "6698\n",
      "6709\n",
      "6720\n",
      "6722\n",
      "6733\n",
      "6744\n",
      "6755\n",
      "6766\n",
      "6777\n",
      "6788\n",
      "6799\n",
      "6810\n",
      "6821\n",
      "6823\n",
      "6834\n",
      "6845\n",
      "6856\n",
      "6867\n",
      "6878\n",
      "6889\n",
      "6900\n",
      "6911\n",
      "6922\n",
      "6924\n",
      "6935\n",
      "6946\n",
      "6957\n",
      "6968\n",
      "6979\n",
      "6990\n",
      "7001\n",
      "7012\n",
      "7027\n",
      "7038\n",
      "7049\n",
      "7060\n",
      "7071\n",
      "7082\n",
      "7093\n",
      "7104\n",
      "7115\n",
      "7117\n",
      "7128\n",
      "7139\n",
      "7150\n",
      "7161\n",
      "7172\n",
      "7183\n",
      "7194\n",
      "7205\n",
      "7216\n",
      "7218\n",
      "7229\n",
      "7240\n",
      "7251\n",
      "7262\n",
      "7273\n",
      "7284\n",
      "7295\n",
      "7306\n",
      "7317\n",
      "7319\n",
      "7330\n",
      "7341\n",
      "7352\n",
      "7363\n",
      "7374\n",
      "7385\n",
      "7396\n",
      "7407\n",
      "7418\n",
      "7420\n",
      "7431\n",
      "7442\n",
      "7453\n",
      "7464\n",
      "7475\n",
      "7486\n",
      "7497\n",
      "7508\n",
      "7519\n",
      "7521\n",
      "7532\n",
      "7543\n",
      "7554\n",
      "7565\n",
      "7576\n",
      "7587\n",
      "7598\n",
      "7609\n",
      "7620\n",
      "7622\n",
      "7633\n",
      "7644\n",
      "7655\n",
      "7666\n",
      "7677\n",
      "7688\n",
      "7699\n",
      "7710\n",
      "7721\n",
      "7723\n",
      "7734\n",
      "7745\n",
      "7756\n",
      "7767\n",
      "7778\n",
      "7789\n",
      "7800\n",
      "7811\n",
      "7822\n",
      "7824\n",
      "7835\n",
      "7846\n",
      "7857\n",
      "7868\n",
      "7879\n",
      "7890\n",
      "7901\n",
      "7912\n",
      "7923\n",
      "7925\n",
      "7936\n",
      "7947\n",
      "7958\n",
      "7969\n",
      "7980\n",
      "7991\n",
      "8002\n",
      "8013\n",
      "8028\n",
      "8039\n",
      "8050\n",
      "8061\n",
      "8072\n",
      "8083\n",
      "8094\n",
      "8105\n",
      "8116\n",
      "8118\n",
      "8129\n",
      "8140\n",
      "8151\n",
      "8162\n",
      "8173\n",
      "8184\n",
      "8195\n",
      "8206\n",
      "8217\n",
      "8219\n",
      "8230\n",
      "8241\n",
      "8252\n",
      "8263\n",
      "8274\n",
      "8285\n",
      "8296\n",
      "8307\n",
      "8318\n",
      "8320\n",
      "8331\n",
      "8342\n",
      "8353\n",
      "8364\n",
      "8375\n",
      "8386\n",
      "8397\n",
      "8408\n",
      "8419\n",
      "8421\n",
      "8432\n",
      "8443\n",
      "8454\n",
      "8465\n",
      "8476\n",
      "8487\n",
      "8498\n",
      "8509\n",
      "8520\n",
      "8522\n",
      "8533\n",
      "8544\n",
      "8555\n",
      "8566\n",
      "8577\n",
      "8588\n",
      "8599\n",
      "8610\n",
      "8621\n",
      "8623\n",
      "8634\n",
      "8645\n",
      "8656\n",
      "8667\n",
      "8678\n",
      "8689\n",
      "8700\n",
      "8711\n",
      "8722\n",
      "8724\n",
      "8735\n",
      "8746\n",
      "8757\n",
      "8768\n",
      "8779\n",
      "8790\n",
      "8801\n",
      "8812\n",
      "8823\n",
      "8825\n",
      "8836\n",
      "8847\n",
      "8858\n",
      "8869\n",
      "8880\n",
      "8891\n",
      "8902\n",
      "8913\n",
      "8924\n",
      "8926\n",
      "8937\n",
      "8948\n",
      "8959\n",
      "8970\n",
      "8981\n",
      "8992\n",
      "9003\n",
      "9014\n",
      "9029\n",
      "9040\n",
      "9051\n",
      "9062\n",
      "9073\n",
      "9084\n",
      "9095\n",
      "9106\n",
      "9117\n",
      "9119\n",
      "9130\n",
      "9141\n",
      "9152\n",
      "9163\n",
      "9174\n",
      "9185\n",
      "9196\n",
      "9207\n",
      "9218\n",
      "9220\n",
      "9231\n",
      "9242\n",
      "9253\n",
      "9264\n",
      "9275\n",
      "9286\n",
      "9297\n",
      "9308\n",
      "9319\n",
      "9321\n",
      "9332\n",
      "9343\n",
      "9354\n",
      "9365\n",
      "9376\n",
      "9387\n",
      "9398\n",
      "9409\n",
      "9420\n",
      "9422\n",
      "9433\n",
      "9444\n",
      "9455\n",
      "9466\n",
      "9477\n",
      "9488\n",
      "9499\n",
      "9510\n",
      "9521\n",
      "9523\n",
      "9534\n",
      "9545\n",
      "9556\n",
      "9567\n",
      "9578\n",
      "9589\n",
      "9600\n",
      "9611\n",
      "9622\n",
      "9624\n",
      "9635\n",
      "9646\n",
      "9657\n",
      "9668\n",
      "9679\n",
      "9690\n",
      "9701\n",
      "9712\n",
      "9723\n",
      "9725\n",
      "9736\n",
      "9747\n",
      "9758\n",
      "9769\n",
      "9780\n",
      "9791\n",
      "9802\n",
      "9813\n",
      "9824\n",
      "9826\n",
      "9837\n",
      "9848\n",
      "9859\n",
      "9870\n",
      "9881\n",
      "9892\n",
      "9903\n",
      "9914\n",
      "9925\n",
      "9927\n",
      "9938\n",
      "9949\n",
      "9960\n",
      "9971\n",
      "9982\n",
      "9993\n"
     ]
    }
   ],
   "source": [
    "### 문제 정보 ###\n",
    "# 4673. 셀프 넘버\n",
    "# https://www.acmicpc.net/problem/4673\n",
    "\n",
    "### 문제 풀이 ###\n",
    "# 1. d(n) 함수 구현\n",
    "# 2. 1부터 10000까지 숫자를 담는 리스트 생성\n",
    "# 3. 리스트 내에 생성자로 만들 수 있는 수가 있다면, 제거\n",
    "# 4. 남은 리스트 값 출력\n",
    "\n",
    "def kaprekar(n):\n",
    "    k = n\n",
    "    \n",
    "    for x in str(n):\n",
    "        k += int(x)\n",
    "    \n",
    "    return k\n",
    "    \n",
    "result = [i for i in range(1, 10001)]\n",
    "\n",
    "for i in range(1, 10001):\n",
    "    kar = kaprekar(i)\n",
    "    \n",
    "    if kar in result:\n",
    "        result.remove(kar)\n",
    "    else:\n",
    "        continue\n",
    "    \n",
    "print(\"\\n\".join(map(str, result)))"
   ]
  },
  {
   "cell_type": "code",
   "execution_count": null,
   "metadata": {},
   "outputs": [
    {
     "name": "stdout",
     "output_type": "stream",
     "text": [
      "1\n"
     ]
    }
   ],
   "source": [
    "# 1593\n",
    "\n",
    "g, s = map(int, input().split(\" \"))\n",
    "W = str(input())\n",
    "S = str(input())\n",
    "\n",
    "points = [0 for _ in range(s)]\n",
    "for i in range(s):\n",
    "    if S[i] in W:\n",
    "        points[i] += 1\n",
    "    else:\n",
    "        continue"
   ]
  },
  {
   "cell_type": "code",
   "execution_count": null,
   "metadata": {},
   "outputs": [
    {
     "name": "stdout",
     "output_type": "stream",
     "text": [
      "0\n"
     ]
    }
   ],
   "source": [
    "# 16172\n",
    "\n",
    "s = str(input())\n",
    "k = str(input())\n",
    "\n",
    "for i in range(len(s)):\n",
    "    try:\n",
    "        x = int(i)\n",
    "        s = s.replace(f\"{x}\", \"\")\n",
    "    except ValueError:\n",
    "        continue\n",
    "    \n",
    "if k in s:\n",
    "    print(1)\n",
    "else:\n",
    "    print(0)"
   ]
  },
  {
   "cell_type": "code",
   "execution_count": 1,
   "metadata": {},
   "outputs": [
    {
     "name": "stdout",
     "output_type": "stream",
     "text": [
      "1\n"
     ]
    }
   ],
   "source": [
    "# 16172\n",
    "\n",
    "s = str(input())\n",
    "k = str(input())\n",
    "\n",
    "s = \"\".join(text for text in s if not text.isnumeric())\n",
    "\n",
    "print(int(k in s))"
   ]
  },
  {
   "cell_type": "code",
   "execution_count": null,
   "metadata": {},
   "outputs": [
    {
     "name": "stdout",
     "output_type": "stream",
     "text": [
      "x: a\n",
      "tmp: ['a']\n",
      "count: 0\n",
      "x: a\n",
      "x: a\n",
      "x: a\n",
      "x: a\n",
      "x: a\n",
      "x: a\n",
      "x: a\n",
      "x: a\n",
      "x: a\n",
      "0\n"
     ]
    }
   ],
   "source": [
    "# 1593\n",
    "\n",
    "w_len, s_len = map(int, input().split(\" \"))\n",
    "w = str(input())\n",
    "s = str(input())\n",
    "\n",
    "tmp = []\n",
    "count = 0\n",
    "for x in s:\n",
    "    print(f\"x: {x}\")\n",
    "    \n",
    "    # S의 철자가 W에 속하고, tmp에 없을 때\n",
    "    if (x in w) & (x not in tmp):\n",
    "        tmp.append(x)\n",
    "        \n",
    "        # tmp와 w의 길이가 같을 때\n",
    "        if len(tmp) == len(w):\n",
    "            tmp.pop(0)\n",
    "            count += 1\n",
    "            \n",
    "    # S의 철자가 tmp에 있을 때\n",
    "    elif x in tmp:\n",
    "        continue\n",
    "    \n",
    "    # S의 철자가 W에 속하지 않을 때\n",
    "    else:\n",
    "        tmp = []\n",
    "    \n",
    "    print(f\"tmp: {tmp}\")\n",
    "    print(f\"count: {count}\")\n",
    "    \n",
    "print(count)"
   ]
  },
  {
   "cell_type": "code",
   "execution_count": 49,
   "metadata": {},
   "outputs": [
    {
     "name": "stdout",
     "output_type": "stream",
     "text": [
      "[2, 3]\n"
     ]
    }
   ],
   "source": [
    "tmp = [1, 2, 3]\n",
    "tmp.remove(1)\n",
    "print(tmp)"
   ]
  },
  {
   "cell_type": "code",
   "execution_count": null,
   "metadata": {},
   "outputs": [],
   "source": [
    "# 1593\n",
    "\n",
    "w_len, s_len = map(int, input().split(\" \"))\n",
    "w = str(input())\n",
    "s = str(input())\n",
    "\n",
    "tmp = [[0 for _ in w_len] for _ in s_len]\n"
   ]
  },
  {
   "cell_type": "code",
   "execution_count": 41,
   "metadata": {},
   "outputs": [
    {
     "name": "stdout",
     "output_type": "stream",
     "text": [
      "False\n"
     ]
    }
   ],
   "source": [
    "tmp1 = [\"a\", \"b\", \"c\"]\n",
    "tmp2 = [\"c\", \"a\", \"b\"]\n",
    "print(tmp1 == tmp2)"
   ]
  },
  {
   "cell_type": "code",
   "execution_count": 28,
   "metadata": {},
   "outputs": [
    {
     "name": "stdout",
     "output_type": "stream",
     "text": [
      "4\n"
     ]
    }
   ],
   "source": [
    "# 1593\n",
    "\n",
    "w_len, s_len = map(int, input().split(\" \"))\n",
    "w = str(input())\n",
    "s = str(input())\n",
    "\n",
    "tmp = []\n",
    "count = 0\n",
    "for i in range(len(s)):\n",
    "    \n",
    "    # S의 철자가 W에 속할 때,\n",
    "    if s[i] in w:\n",
    "        ## tmp에 추가\n",
    "        tmp.append(s[i])\n",
    "    \n",
    "    # S의 철자가 W에 속하지 않을 때,\n",
    "    else:\n",
    "        ## S의 철자가 tmp에 있다면,\n",
    "        if s[i] in tmp:\n",
    "            tmp.remove(s[i])\n",
    "        ## S의 철자가 tmp에 없다면,\n",
    "        else:\n",
    "            continue\n",
    "    \n",
    "    # tmp의 길이가 W의 길이와 같을 때,\n",
    "    if len(tmp) == len(w):\n",
    "        ## tmp는 첫 번째 요소를 버림\n",
    "        tmp.pop(0)\n",
    "        ## 개수 1개 추가\n",
    "        count += 1\n",
    "        \n",
    "print(count)"
   ]
  },
  {
   "cell_type": "code",
   "execution_count": null,
   "metadata": {},
   "outputs": [],
   "source": [
    "w_len, s_len = map(int, input().split(\" \"))\n",
    "w = str(input())\n",
    "s = str(input())\n",
    "\n",
    "tmp1 = [_ for _ in w]\n",
    "count = 0\n",
    "\n",
    "for i in range(s_len):\n",
    "    \n",
    "    # S의 철자가 W에 속할 때,\n",
    "    if s[i] in w:\n",
    "        ## tmp1에서 제거\n",
    "        tmp1.pop(s[i])\n",
    "        \n",
    "        if len(tmp1) == 0:\n",
    "            tmp1.append()\n",
    "        \n",
    "    # S의 철자가 W에 속하지 않을 때,\n",
    "    else:\n",
    "        ## tmp1 초기화\n",
    "        tmp1 = [_ for _ in w]\n",
    "    \n",
    "    "
   ]
  },
  {
   "cell_type": "code",
   "execution_count": null,
   "metadata": {},
   "outputs": [
    {
     "name": "stdout",
     "output_type": "stream",
     "text": [
      "4\n"
     ]
    }
   ],
   "source": [
    "### 문제 정보 ###\n",
    "# 9251. LCS\n",
    "# https://www.acmicpc.net/problem/9251\n",
    "\n",
    "### 문제 풀이 ###\n",
    "# 1. 초기값을 0으로 갖는 (n+1) * (m+1) 2차원 배열 생성\n",
    "# 2. 각 철자를 비교하며, 최장 길이를 누적하여 더하기\n",
    "## 두 철자가 같으면 [i-1][j-1]의 값에 1을 더함.\n",
    "## 두 철자가 다르면 [i-1][j], [i][j-1]의 값의 최대값을 가져옴.\n",
    "\n",
    "s1 = str(input())\n",
    "s2 = str(input())\n",
    "\n",
    "lcs_li = [[0 for _ in range(len(s2)+1)] for _ in range(len(s1)+1)]\n",
    "\n",
    "for i in range(len(s1)):\n",
    "    for j in range(len(s2)):\n",
    "        if s1[i] == s2[j]:\n",
    "            lcs_li[i+1][j+1] = lcs_li[i][j] + 1\n",
    "        else:\n",
    "            lcs_li[i+1][j+1] = max(lcs_li[i][j+1], lcs_li[i+1][j])\n",
    "            \n",
    "            \n",
    "print(lcs_li[-1][-1])"
   ]
  },
  {
   "cell_type": "code",
   "execution_count": 2,
   "metadata": {},
   "outputs": [
    {
     "name": "stdout",
     "output_type": "stream",
     "text": [
      "12\n"
     ]
    }
   ],
   "source": [
    "# 15894\n",
    "\n",
    "n = int(input())\n",
    "\n",
    "print(4 * n)"
   ]
  },
  {
   "cell_type": "code",
   "execution_count": 17,
   "metadata": {},
   "outputs": [
    {
     "name": "stdout",
     "output_type": "stream",
     "text": [
      "1\n"
     ]
    }
   ],
   "source": [
    "# 12904\n",
    "\n",
    "s = str(input())\n",
    "t = str(input())\n",
    "\n",
    "def chase_word(word, answer):\n",
    "    \n",
    "    if word == answer:\n",
    "        print(1)\n",
    "        \n",
    "    else:\n",
    "        if len(word) == 0:\n",
    "            print(0)\n",
    "        else:\n",
    "            if word[-1] == \"A\":\n",
    "                chase_word(word[:-1], answer)\n",
    "            elif word[-1] == \"B\":\n",
    "                word = word[:-1]\n",
    "                chase_word(word[::-1], answer)\n",
    "            \n",
    "chase_word(t, s)"
   ]
  },
  {
   "cell_type": "code",
   "execution_count": 77,
   "metadata": {},
   "outputs": [
    {
     "name": "stdout",
     "output_type": "stream",
     "text": [
      "0\n"
     ]
    }
   ],
   "source": [
    "# 12904\n",
    "\n",
    "s = str(input())\n",
    "t = str(input())\n",
    "\n",
    "while True:\n",
    "    \n",
    "    if t == s:\n",
    "        print(1)\n",
    "        break\n",
    "    \n",
    "    else:\n",
    "        if len(t) == 0:\n",
    "            print(0)\n",
    "            break\n",
    "        else:\n",
    "            if t[-1] == \"A\":\n",
    "                t = t[:-1]\n",
    "            elif t[-1] == \"B\":\n",
    "                t = t[:-1]\n",
    "                t = t[::-1]"
   ]
  },
  {
   "cell_type": "code",
   "execution_count": null,
   "metadata": {},
   "outputs": [
    {
     "name": "stdout",
     "output_type": "stream",
     "text": [
      "2\n",
      "2\n",
      "2\n",
      "3\n",
      "3\n"
     ]
    }
   ],
   "source": [
    "### 문제 정보 ###\n",
    "# 문제 번호: 11653\n",
    "# 문제 이름: 소인수분해\n",
    "# 문제 링크: https://www.acmicpc.net/problem/11653\n",
    "\n",
    "### 문제 풀이 ###\n",
    "\n",
    "n = int(input())\n",
    "\n",
    "i = 2\n",
    "while i < n:\n",
    "    \n",
    "    # n이 1일 때,\n",
    "    if n == 1:\n",
    "        break\n",
    "    \n",
    "    # n이 1이 아닐 때,\n",
    "    else:\n",
    "        # i가 2 또는 3일 때,\n",
    "        if i in [2, 3]:\n",
    "            # i가 n의 인수이면,\n",
    "            if n % i == 0:\n",
    "                print(i)\n",
    "                n //= i\n",
    "            # i가 n의 인수가 아니면,\n",
    "            else:\n",
    "                i += 1\n",
    "        else:\n",
    "            for j in range(2, i):\n",
    "                # i가 4 이상의 소수일 때,\n",
    "                if i % j == 0:\n",
    "                    # i가 n의 인수이면,\n",
    "                    if n % i == 0:\n",
    "                        print(i)\n",
    "                        n //= i\n",
    "                    # i가 n의 인수가 아니면,\n",
    "                    else:\n",
    "                        i += 1\n",
    "                else:\n",
    "                    break"
   ]
  },
  {
   "cell_type": "code",
   "execution_count": null,
   "metadata": {},
   "outputs": [
    {
     "name": "stdout",
     "output_type": "stream",
     "text": [
      "2\n",
      "2\n",
      "5\n",
      "5\n"
     ]
    }
   ],
   "source": [
    "### 문제 정보 ###\n",
    "# 문제 번호: 11653\n",
    "# 문제 이름: 소인수분해\n",
    "# 문제 링크: https://www.acmicpc.net/problem/11653\n",
    "\n",
    "### 문제 풀이 ###\n",
    "\n",
    "n = int(input())\n",
    "\n",
    "prime_nums = [1 for _ in range(n+2)]\n",
    "\n",
    "for i in range(len(prime_nums)):\n",
    "    if i in [0, 1]:\n",
    "        prime_nums[i] = 0\n",
    "    else:\n",
    "        if prime_nums[i] == 1:\n",
    "            j = 2\n",
    "            while i * j < len(prime_nums):\n",
    "                prime_nums[i * j] = 0\n",
    "                j += 1\n",
    "        else:\n",
    "            continue\n",
    "        \n",
    "i = 2\n",
    "while i < len(prime_nums):\n",
    "    if n == 1:\n",
    "        break\n",
    "    else:\n",
    "        if prime_nums[i] == 0:\n",
    "            i += 1\n",
    "            continue\n",
    "        else:\n",
    "            if n % i == 0:\n",
    "                print(i)\n",
    "                n //= i\n",
    "            else:\n",
    "                i += 1"
   ]
  },
  {
   "cell_type": "code",
   "execution_count": null,
   "metadata": {},
   "outputs": [],
   "source": [
    "### 문제 정보 ###\n",
    "# 문제 번호: 3009\n",
    "# 문제 이름: 네 번째 점\n",
    "# 문제 링크: https://www.acmicpc.net/problem/3009\n",
    "\n",
    "### 문제 풀이 ###\n",
    "\n",
    "x_points, y_points = {}, {}\n",
    "\n",
    "for _ in range(3):\n",
    "    x_point, y_point = map(int, input().split(\" \"))\n",
    "    \n",
    "    x_points\n",
    "    \n"
   ]
  },
  {
   "cell_type": "code",
   "execution_count": null,
   "metadata": {},
   "outputs": [],
   "source": [
    "### 문제 정보 ###\n",
    "# 문제 번호: 12789\n",
    "# 문제 이름: 도키도키 간식드리미\n",
    "# 문제 링크: https://www.acmicpc.net/problem/12789\n",
    "\n",
    "### 문제 풀이 ###\n",
    "\n",
    "\n",
    "n = int(input)\n",
    "\n",
    "# 현재 줄 서 있는 곳\n",
    "waits = list(map(int, input().split(\" \")))\n",
    "\n",
    "# 한 명씩만 설 수 있는 공간\n",
    "tmp = []\n",
    "\n",
    "# 반복 시작\n",
    "while True:\n",
    "    \n",
    "    if min(waits) < min(tmp):\n",
    "        "
   ]
  },
  {
   "cell_type": "code",
   "execution_count": null,
   "metadata": {},
   "outputs": [],
   "source": [
    "min([])"
   ]
  }
 ],
 "metadata": {
  "kernelspec": {
   "display_name": "Python 3",
   "language": "python",
   "name": "python3"
  },
  "language_info": {
   "codemirror_mode": {
    "name": "ipython",
    "version": 3
   },
   "file_extension": ".py",
   "mimetype": "text/x-python",
   "name": "python",
   "nbconvert_exporter": "python",
   "pygments_lexer": "ipython3",
   "version": "3.13.2"
  }
 },
 "nbformat": 4,
 "nbformat_minor": 2
}
