{
 "cells": [
  {
   "cell_type": "code",
   "execution_count": 1,
   "metadata": {},
   "outputs": [
    {
     "name": "stdout",
     "output_type": "stream",
     "text": [
      "Nice\n"
     ]
    }
   ],
   "source": [
    "### 문제 정보 ###\n",
    "# 문제 번호: 12789\n",
    "# 문제 이름: 도키도키 간식드리미\n",
    "# 문제 링크: https://www.acmicpc.net/problem/12789\n",
    "\n",
    "### 문제 풀이 ###\n",
    "# 1. 임시로 서 있을 공간을 tmp로 지정\n",
    "# 2. 승환이가 간식을 먹을 수 있는 경우부터 생각\n",
    "# 3. 각 리스트의 길이가 아무것도 없는 경우 생각\n",
    "## 리스트 특성 상 아무것도 없으면 비교 조차 안되기 때문\n",
    "# 4. 양 리스트에 사람이 한 명이라도 서 있는 경우 생각\n",
    "# 5. tmp의 가장 첫 번째 요소가 가장 작은 값이 아니면 승환이는 간식을 먹을 수 없음\n",
    "\n",
    "n = int(input())\n",
    "\n",
    "# 현재 줄 서 있는 곳\n",
    "waits = list(map(int, input().split(\" \")))\n",
    "\n",
    "# 한 명씩만 설 수 있는 공간\n",
    "tmp = []\n",
    "\n",
    "while True:\n",
    "    \n",
    "    # waits와 tmp에 아무도 없는 경우(=승환이가 간식을 받을 수 있는 경우)\n",
    "    if (len(waits) == 0) & (len(tmp) == 0):\n",
    "        print(\"Nice\")\n",
    "        break\n",
    "    \n",
    "    # waits에 아무도 없는 경우\n",
    "    elif len(waits) == 0:\n",
    "        # tmp의 맨 앞 사람이 가장 작은 숫자인 경우\n",
    "        if tmp[0] == min(tmp):\n",
    "            tmp.pop(0)\n",
    "        # 그렇지 않은 경우\n",
    "        else:\n",
    "            print(\"Sad\")\n",
    "            break\n",
    "\n",
    "    # tmp에 아무도 없는 경우\n",
    "    elif len(tmp) == 0:\n",
    "        # waits의 맨 앞 사람이 가장 작은 숫자인 경우\n",
    "        if waits[0] == min(waits):\n",
    "            waits.pop(0)\n",
    "        # 그렇지 않은 경우\n",
    "        else:\n",
    "            tmp.insert(0, waits.pop(0))\n",
    "\n",
    "    # 양쪽 다 사람이 있는 경우\n",
    "    else:\n",
    "        # tmp의 맨 앞 사람이 가장 작은 숫자인 경우\n",
    "        if tmp[0] == min(waits + tmp):\n",
    "            tmp.pop(0)\n",
    "        # waits의 맨 앞 사람이 가장 작은 숫자인 경우\n",
    "        elif waits[0] == min(waits + tmp):\n",
    "            waits.pop(0)\n",
    "        # waits의 맨 앞 사람이 가장 작은 숫자가 아닌 경우\n",
    "        elif waits[0] != min(waits + tmp):\n",
    "            tmp.insert(0, waits.pop(0))\n",
    "        # 그렇지 않은 경우\n",
    "        else:\n",
    "            print(\"Sad\")\n",
    "            break"
   ]
  }
 ],
 "metadata": {
  "kernelspec": {
   "display_name": "Python 3",
   "language": "python",
   "name": "python3"
  },
  "language_info": {
   "codemirror_mode": {
    "name": "ipython",
    "version": 3
   },
   "file_extension": ".py",
   "mimetype": "text/x-python",
   "name": "python",
   "nbconvert_exporter": "python",
   "pygments_lexer": "ipython3",
   "version": "3.13.2"
  }
 },
 "nbformat": 4,
 "nbformat_minor": 2
}
